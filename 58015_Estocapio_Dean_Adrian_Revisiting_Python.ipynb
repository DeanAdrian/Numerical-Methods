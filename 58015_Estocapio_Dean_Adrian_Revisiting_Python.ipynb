{
  "nbformat": 4,
  "nbformat_minor": 0,
  "metadata": {
    "colab": {
      "name": "58015_Estocapio Dean Adrian_Revisiting Python.ipynb",
      "provenance": [],
      "collapsed_sections": [],
      "authorship_tag": "ABX9TyOfYByJBCFA8XPoKyOakr7M",
      "include_colab_link": true
    },
    "kernelspec": {
      "name": "python3",
      "display_name": "Python 3"
    }
  },
  "cells": [
    {
      "cell_type": "markdown",
      "metadata": {
        "id": "view-in-github",
        "colab_type": "text"
      },
      "source": [
        "<a href=\"https://colab.research.google.com/github/DeanAdrian/Numerical-Methods/blob/main/58015_Estocapio_Dean_Adrian_Revisiting_Python.ipynb\" target=\"_parent\"><img src=\"https://colab.research.google.com/assets/colab-badge.svg\" alt=\"Open In Colab\"/></a>"
      ]
    },
    {
      "cell_type": "markdown",
      "metadata": {
        "id": "L-8QG05Uvagr"
      },
      "source": [
        "# Welcome to Python Fundamentals\r\n",
        "by Dean Adrian Estocapio \\\\\r\n",
        "\r\n",
        "For this activity, The requirement is to create a function that will compute for the semestral grade of the student, rounded to two decimals. \\\\\r\n",
        "\r\n",
        "The required inputs for the function are the following:\r\n",
        "* Name\r\n",
        "* Prelim Grade\r\n",
        "* Midterm Grade\r\n",
        "* Final Grade \\\\\r\n",
        "\r\n",
        "\r\n",
        "\r\n",
        "\r\n"
      ]
    },
    {
      "cell_type": "markdown",
      "metadata": {
        "id": "x0ZKZ6H06kFL"
      },
      "source": [
        "# Activity"
      ]
    },
    {
      "cell_type": "markdown",
      "metadata": {
        "id": "YRxErEmf4T1t"
      },
      "source": [
        "Below is a code for the given activity. This code will compute for the users semestral grade, provided that they enter the necessary and proper data for each part of the program. \\\\\r\n",
        "\r\n",
        "The program will ask for the following information: The users name, as well as the prelim, midterm, and final grade. \\\\\r\n",
        "\r\n",
        "After entering all the appropriate data the function will provide two print statements. \\\\\r\n",
        "\r\n",
        "First is the users name, and the full grade, and the next is the grade of the user rounded up to two decimals. \\\\"
      ]
    },
    {
      "cell_type": "code",
      "metadata": {
        "id": "wMwpHcg_x_8J"
      },
      "source": [
        "## Function to compute for a students semestral grade\r\n",
        "def comp_SemGrade():\r\n",
        "    name      = input(\"Enter your name: \")\r\n",
        "    prelim_grd        = float(input(\"Enter prelim grade: \"))\r\n",
        "    midterm_grd        = float(input(\"Enter midterm grade: \"))\r\n",
        "    finals_grd        = float(input(\"Enter finals grade: \"))\r\n",
        "    sem_grd = (0.3*prelim_grd)+(0.3*midterm_grd)+(0.4*finals_grd)\r\n",
        "    rounded   = round(sem_grd,2)\r\n",
        "    \r\n",
        "    ## Unicode for Emojis\r\n",
        "    happy = \"\\U0001F600\"\r\n",
        "    lol   = \"\\U0001F923\"\r\n",
        "    sad   = \"\\U0001F613\"\r\n",
        "    emoji = None \r\n",
        "    \r\n",
        "    if sem_grd > 70:\r\n",
        "        emoji = happy\r\n",
        "    elif sem_grd == 70:\r\n",
        "        emoji = lol\r\n",
        "    elif sem_grd < 70:\r\n",
        "        emoji = sad\r\n",
        "    \r\n",
        "    print(\"Hello {}, your semestral grade is: {} {}\"\\\r\n",
        "          .format(name, sem_grd, emoji))\r\n",
        "    print(\"Your semestral grade rounded to two decimals is: {} {}\"\\\r\n",
        "          .format(rounded, emoji))"
      ],
      "execution_count": null,
      "outputs": []
    },
    {
      "cell_type": "code",
      "metadata": {
        "colab": {
          "base_uri": "https://localhost:8080/"
        },
        "id": "aJtKDnfryYIh",
        "outputId": "b1322bb2-18f0-4ef1-f188-260301977bae"
      },
      "source": [
        "comp_SemGrade()"
      ],
      "execution_count": null,
      "outputs": [
        {
          "output_type": "stream",
          "text": [
            "Enter your name: Dean\n",
            "Enter prelim grade: 90\n",
            "Enter midterm grade: 80\n",
            "Enter finals grade: 90.756\n",
            "Hello Dean, your semestral grade is: 87.3024 😀\n",
            "Your semestral grade rounded to two decimals is: 87.3 😀\n"
          ],
          "name": "stdout"
        }
      ]
    }
  ]
}