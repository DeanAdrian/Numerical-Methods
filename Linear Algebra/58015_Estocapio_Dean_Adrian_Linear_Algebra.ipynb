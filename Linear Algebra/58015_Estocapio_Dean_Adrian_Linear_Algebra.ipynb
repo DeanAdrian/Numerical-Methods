{
  "nbformat": 4,
  "nbformat_minor": 0,
  "metadata": {
    "colab": {
      "name": "58015_Estocapio Dean Adrian_Linear_Algebra",
      "provenance": [],
      "collapsed_sections": [],
      "authorship_tag": "ABX9TyNg6Ys4U3HXFidzlOeDQ82i",
      "include_colab_link": true
    },
    "kernelspec": {
      "name": "python3",
      "display_name": "Python 3"
    }
  },
  "cells": [
    {
      "cell_type": "markdown",
      "metadata": {
        "id": "view-in-github",
        "colab_type": "text"
      },
      "source": [
        "<a href=\"https://colab.research.google.com/github/DeanAdrian/Numerical-Methods/blob/main/Linear%20Algebra/58015_Estocapio_Dean_Adrian_Linear_Algebra.ipynb\" target=\"_parent\"><img src=\"https://colab.research.google.com/assets/colab-badge.svg\" alt=\"Open In Colab\"/></a>"
      ]
    },
    {
      "cell_type": "markdown",
      "metadata": {
        "id": "3Z7A4S4UZhG1"
      },
      "source": [
        "# Welcome to Python Linear Algebra\r\n",
        "by Dean Adrian Estocapio \\\\\r\n",
        "\r\n",
        "For this activity, There are two requirements. Firstly is to create a program that computes for the modulus of a vector. And the next requirement is the creation of the program to compute for Sigmoid function. \\\\\r\n",
        "\r\n",
        "The required inputs for the two requirements are the following:\r\n",
        "* Numerical inputs from the user.\r\n",
        "\r\n",
        "\r\n"
      ]
    },
    {
      "cell_type": "markdown",
      "metadata": {
        "id": "RnVWJJi_ak8e"
      },
      "source": [
        "## Practice 1: Modulus of a Vector"
      ]
    },
    {
      "cell_type": "markdown",
      "metadata": {
        "id": "DrDh4rx9u5V5"
      },
      "source": [
        "The code below is the code for the first activity of this laboratory. It will calculate for the modulus of a given vector. The formula was given to be that of similar to the Pythagorean Theorem.\r\n",
        "\r\n",
        "The code can accept, multiple numeric inputs from the user and will then gather the given and compute for the modulus. This is done through the form of a list comprehension, with a split function to separate all inputs into a list.\r\n",
        "\r\n",
        "The calculation is done mostly through the created class & functions. Which are then called to give the proper outputs alongside the print statements in the last lines of the code."
      ]
    },
    {
      "cell_type": "code",
      "metadata": {
        "colab": {
          "base_uri": "https://localhost:8080/"
        },
        "id": "8xoLfwaBC0xG",
        "outputId": "5b668fd8-33d7-43a4-f49e-362840bd5ede"
      },
      "source": [
        "print(\"You may enter multiple numbers separated by space only.\\n\")\r\n",
        "X = [int(X) for X in input(\"Enter given Numbers: \").split()]\r\n",
        "\r\n",
        "class Solver:\r\n",
        "    def __init__(arg):\r\n",
        "        arg.squared = [SQ ** 2 for SQ in X]\r\n",
        "        arg.norm=(sum([arg.squared[lis] for lis in range(len(arg.squared))]))**(1/2)\r\n",
        "        arg.modulo=arg.norm\r\n",
        "        arg.rounded = round(arg.modulo,2)\r\n",
        "        \r\n",
        "def Modulus_find():\r\n",
        "    return Solver()\r\n",
        "\r\n",
        "M = Modulus_find\r\n",
        "\r\n",
        "print(\"\\nThe modulus of the given is:\",M().modulo)\r\n",
        "print(\"The modulus of the given rounded to 2 decimals is:\",M().rounded)\r\n",
        "for c in X:\r\n",
        "  print(type(c))"
      ],
      "execution_count": null,
      "outputs": [
        {
          "output_type": "stream",
          "text": [
            "You may enter multiple numbers separated by space only.\n",
            "\n",
            "Enter given Numbers: 4\n",
            "\n",
            "The modulus of the given is: 4.0\n",
            "The modulus of the given rounded to 2 decimals is: 4.0\n",
            "<class 'int'>\n"
          ],
          "name": "stdout"
        }
      ]
    },
    {
      "cell_type": "markdown",
      "metadata": {
        "id": "XUeHQWmtals5"
      },
      "source": [
        "pd## Practice 2: The Sigmoid"
      ]
    },
    {
      "cell_type": "markdown",
      "metadata": {
        "id": "EOWVGtuy8qJh"
      },
      "source": [
        "This cell below is the code for the second activity of this laboratory. The code will only compute for one number & as such it is much simpler than the code in the first activity above.\r\n",
        "\r\n",
        "Intead of any functions, only 3 variables are created, first is the variable that will be assigned the number the user entered. And the other two are assigned to be used for the formula.\r\n",
        "\r\n",
        "It will only accept one number from the user and will then proceed to compute then print the output accordingly."
      ]
    },
    {
      "cell_type": "code",
      "metadata": {
        "colab": {
          "base_uri": "https://localhost:8080/"
        },
        "id": "KvHwI9BlBY2q",
        "outputId": "a985c07f-51f6-496f-f2d2-7ec0d5ba20a4"
      },
      "source": [
        "number = float(input(\"Enter a Number: \"))\r\n",
        "e =2.71828\r\n",
        "Sigmoid = 1/(1+e**(-number))\r\n",
        "print(\"The Reuslting Sigmoid is: \",Sigmoid)"
      ],
      "execution_count": null,
      "outputs": [
        {
          "output_type": "stream",
          "text": [
            "Enter a Number: 13\n",
            "The Reuslting Sigmoid is:  0.9999977396559366\n"
          ],
          "name": "stdout"
        }
      ]
    }
  ]
}